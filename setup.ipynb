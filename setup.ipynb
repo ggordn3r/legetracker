{
 "cells": [
  {
   "cell_type": "markdown",
   "metadata": {},
   "source": [
    "# Setup process\n",
    "1. Create database\n",
    "2. Create bill table (id, chamber, number, year, url, rss, lastBuildDate)\n",
    "3. create action table (title, description, pubDate)\n",
    "   1. bills 1-to-n actions\n",
    "4. For each bill, grab all actions from RSS"
   ]
  },
  {
   "cell_type": "code",
   "execution_count": 2,
   "metadata": {},
   "outputs": [],
   "source": [
    "import sqlite3\n",
    "# import pandas as pd\n",
    "import feedparser\n",
    "import re\n",
    "\n",
    "db = \"lege.db\""
   ]
  },
  {
   "cell_type": "code",
   "execution_count": 11,
   "metadata": {},
   "outputs": [],
   "source": [
    "# NOTE Run to clear database entirely, including deleting tables\n",
    "# con = sqlite3.connect(db)\n",
    "# cur = con.cursor()\n",
    "# cur.execute(\"DROP TABLE bills\")\n",
    "# cur.execute(\"DROP TABLE actions\")\n",
    "# con.commit()\n",
    "# con.close()"
   ]
  },
  {
   "cell_type": "code",
   "execution_count": 12,
   "metadata": {},
   "outputs": [],
   "source": [
    "# NOTE Run to set up database\n",
    "# con = sqlite3.connect(db)\n",
    "# cur = con.cursor()\n",
    "# cur.execute(\"CREATE TABLE bills(id, chamber, number, year, url, rss, lastBuildDate)\")\n",
    "# cur.execute(\"CREATE TABLE actions(id, description, pubDate, scheduled, committee, date, time, location)\")\n",
    "# con.close()"
   ]
  },
  {
   "cell_type": "code",
   "execution_count": 3,
   "metadata": {},
   "outputs": [],
   "source": [
    "# NOTE Run to clear the database without dropping tables\n",
    "con = sqlite3.connect(db)\n",
    "cur = con.cursor()\n",
    "# cur.execute(\"DELETE FROM bills\")\n",
    "cur.execute(\"DELETE FROM actions\")\n",
    "con.commit()\n",
    "con.close()"
   ]
  },
  {
   "cell_type": "code",
   "execution_count": null,
   "metadata": {},
   "outputs": [],
   "source": [
    "\n",
    "# con = sqlite3.connect(db)\n",
    "# bills = pd.read_sql(\"SELECT * from bills\", con)\n",
    "# actions = pd.read_sql(\"SELECT * from actions\", con)\n",
    "# con.close()"
   ]
  },
  {
   "cell_type": "code",
   "execution_count": 4,
   "metadata": {},
   "outputs": [],
   "source": [
    "def userInterface():\n",
    "    print(\"What would you like to do?\")\n",
    "    print(\"1. Add a Bill\")\n",
    "    print(\"2. View all Bills\")\n",
    "    print(\"3. View Timestamp of Last Run\")\n",
    "    print(\"4. Check for Updates\")\n",
    "    print()\n",
    "    choice = input(\"Enter a number between 1 and 4: \")\n",
    "    # TODO case switch 1-4\n",
    "    # TODO take another action?\n",
    "\n",
    "def addBill(db):\n",
    "    id = input(\"Enter the bill number with a space, e.g. HD 1010: \")\n",
    "    # TODO error handle bill format A{2}d{4} with regex\n",
    "\n",
    "    year = input(\"Enter the bill year, e.g. 2024: \")\n",
    "    # TODO error handle valid year d{4} > 2000 with regex\n",
    "\n",
    "    # TODO check for duplicate ids\n",
    "    chamber, number = id.split()\n",
    "    chamber = chamber.upper()\n",
    "    id = year + chamber + number\n",
    "\n",
    "    # parse input to columns\n",
    "    url = f\"https://www.capitol.hawaii.gov/session/measure_indiv.aspx?billtype={chamber}&billnumber={number}&year={year}\"\n",
    "    rss = f\"https://www.capitol.hawaii.gov/sessions/session{year}/rss/{chamber}{number}.xml\"\n",
    "    build = None\n",
    "\n",
    "    # TODO validate row created well\n",
    "\n",
    "    # add row to sql db\n",
    "    row = [id, chamber, number, year, url, rss, build]\n",
    "    con = sqlite3.connect(db)\n",
    "    cur = con.cursor()\n",
    "    cur.execute(\"INSERT INTO bills VALUES(?, ?, ?, ?, ?, ?, ?)\", row)\n",
    "    con.commit()\n",
    "    con.close()\n",
    "    # TODO return success/failure message\n",
    "\n",
    "def getBill(db, id):\n",
    "    con = sqlite3.connect(db)\n",
    "    cur = con.cursor()\n",
    "    with con:\n",
    "        # FIXME: for actual implementation: chamber, number\n",
    "        view = cur.execute(\"SELECT * FROM bills WHERE id=?\", [id])\n",
    "        print(view.fetchone())\n",
    "    con.close()\n",
    "\n",
    "def getBills(db):\n",
    "    con = sqlite3.connect(db)\n",
    "    cur = con.cursor()\n",
    "    with con:\n",
    "        # FIXME: for actual implementation: chamber, number\n",
    "        view = cur.execute(\"SELECT * FROM bills\")\n",
    "        print(view.fetchall())\n",
    "    con.close()\n",
    "\n",
    "def getActions(db):\n",
    "    con = sqlite3.connect(db)\n",
    "    cur = con.cursor()\n",
    "    with con:\n",
    "        view = cur.execute(\"SELECT * FROM actions\")\n",
    "        print(view.fetchall())\n",
    "    con.close()\n",
    "\n",
    "def getHearings(db):\n",
    "    con = sqlite3.connect(db)\n",
    "    cur = con.cursor()\n",
    "    with con:\n",
    "        # FIXME: for actual implementation: chamber, number\n",
    "        view = cur.execute(\"SELECT * FROM actions WHERE scheduled = TRUE\")\n",
    "        print(view.fetchall())\n",
    "    con.close()\n",
    "\n",
    "def viewTimestamp():\n",
    "    # TODO create text file with timestamp of last run\n",
    "    # if file not found, \"file not found: never run\" message\n",
    "    pass\n",
    "\n",
    "def checkAllUpdates(db):\n",
    "    # TODO generator checkUpdate() for all bills...\n",
    "    # iterate over all districts\n",
    "    con = sqlite3.connect(db)\n",
    "    cur = con.cursor()\n",
    "    with con:\n",
    "        bill_list = cur.execute(\"SELECT id FROM bills\")\n",
    "        bill_list = bill_list.fetchall()\n",
    "        gen = (checkUpdate(id[0]) for id in bill_list)\n",
    "        list(gen)\n",
    "    con.close()\n",
    "\n",
    "    # Update timestamp\n",
    "    from time import strftime\n",
    "    with open('timestamp.txt', 'w') as f:\n",
    "        f.write(strftime(\"%d %b %Y %H:%M:%S\"))\n",
    "    \n",
    "    # Return success/fail message\n",
    "    print('Success: all bills updated from feed')\n",
    "\n",
    "def checkUpdate(id):\n",
    "    # connect to db\n",
    "    con = sqlite3.connect(db)\n",
    "    cur = con.cursor()\n",
    "    \n",
    "    # get rss feed\n",
    "    feed = cur.execute(\"SELECT rss FROM bills WHERE id=?\", [id])\n",
    "    feed = feed.fetchone()[0]\n",
    "    data = feedparser.parse(feed)\n",
    "           \n",
    "    # TODO compare lastupdated. If !=, grab latest item\n",
    "    # print(data['feed']['published_parsed'])\n",
    "    \n",
    "    # get basic data from latest rss item\n",
    "    description = data.entries[0].title\n",
    "    pubDate = data.entries[0].published\n",
    "    scheduled = \"scheduled\" in description # if scheduled, will grab hearing information\n",
    "    \n",
    "    # description template varies between Senate and House, so need to check chamber\n",
    "    chamber = cur.execute(\"SELECT chamber FROM bills WHERE id=?\", [id])\n",
    "    chamber = chamber.fetchone()[0]\n",
    "    senatecheck = chamber == 'SB'\n",
    "\n",
    "    if scheduled and senatecheck: # if scheduled for a Senate hearing\n",
    "        committee = re.findall(\"[^\\\\s]+(?= has)\", description)\n",
    "        date = re.findall(\"\\\\d{2}-\\\\d{02}-\\\\d{2}\", description)\n",
    "        time = re.findall(\"[^\\\\s]+(?=;)\", description)\n",
    "        location = re.findall(\"(?<=; ).*(?=\\\\.)\", description)\n",
    "\n",
    "        committee = committee[0]\n",
    "        date = date[0]\n",
    "        time = time[0]\n",
    "        location = location[0]\n",
    "\n",
    "        print(f\"{id} has been scheduled for a hearing. Details: \")\n",
    "        print(f\"{committee} {date} {time}\")\n",
    "    \n",
    "    elif scheduled: # if scheduled for a House hearing\n",
    "        committee = re.findall(\"[^\\\\s]+(?= on)\", description)\n",
    "        date = re.findall(\"\\\\d{2}-\\\\d{02}-\\\\d{2}\", description)\n",
    "        time = re.findall(\"[^\\\\s]+(?= in)\", description)\n",
    "        location = re.findall(\"(?<= in ).*(?=\\\\.)\", description)\n",
    "        \n",
    "        committee = committee[0]\n",
    "        date = date[0]\n",
    "        time = time[0]\n",
    "        location = location[0]\n",
    "\n",
    "        print(f\"{id} has been scheduled for a hearing. Details: \")\n",
    "        print(f\"{committee} {date} {time}\")\n",
    "\n",
    "    else: # if not scheduled\n",
    "        committee = None\n",
    "        date = None\n",
    "        time = None\n",
    "        location = None\n",
    "\n",
    "    # TODO validate row\n",
    "        \n",
    "    # save row to db\n",
    "    # TODO handle duplicates: https://www.tutorialspoint.com/sql/sql-handling-duplicates.htm\n",
    "    row = [id, description, pubDate, scheduled, committee, date, time, location]\n",
    "    cur.execute(\"INSERT INTO actions VALUES(?, ?, ?, ?, ?, ?, ?, ?)\", row)\n",
    "    con.commit()\n",
    "    \n",
    "    # return success/fail message\n",
    "    # TODO change to log\n",
    "    print(f'Success: {id} updated from feed')\n",
    "\n",
    "    con.close()"
   ]
  },
  {
   "cell_type": "code",
   "execution_count": 13,
   "metadata": {},
   "outputs": [],
   "source": [
    "addBill(db=db)\n",
    "# SB 2979\n",
    "# SB 3381\n",
    "# HB 2696\n",
    "# HB 2693\n",
    "# SB 2980\n",
    "# HB 2549\n",
    "# SB 2836\n",
    "# SB 3231"
   ]
  },
  {
   "cell_type": "code",
   "execution_count": 5,
   "metadata": {},
   "outputs": [
    {
     "name": "stdout",
     "output_type": "stream",
     "text": [
      "[('2024SB2979', 'SB', '2979', '2024', 'https://www.capitol.hawaii.gov/session/measure_indiv.aspx?billtype=SB&billnumber=2979&year=2024', 'https://www.capitol.hawaii.gov/sessions/session2024/rss/SB2979.xml', None), ('2024SB3381', 'SB', '3381', '2024', 'https://www.capitol.hawaii.gov/session/measure_indiv.aspx?billtype=SB&billnumber=3381&year=2024', 'https://www.capitol.hawaii.gov/sessions/session2024/rss/SB3381.xml', None), ('2024HB2696', 'HB', '2696', '2024', 'https://www.capitol.hawaii.gov/session/measure_indiv.aspx?billtype=HB&billnumber=2696&year=2024', 'https://www.capitol.hawaii.gov/sessions/session2024/rss/HB2696.xml', None), ('2024HB2693', 'HB', '2693', '2024', 'https://www.capitol.hawaii.gov/session/measure_indiv.aspx?billtype=HB&billnumber=2693&year=2024', 'https://www.capitol.hawaii.gov/sessions/session2024/rss/HB2693.xml', None), ('2024SB2980', 'SB', '2980', '2024', 'https://www.capitol.hawaii.gov/session/measure_indiv.aspx?billtype=SB&billnumber=2980&year=2024', 'https://www.capitol.hawaii.gov/sessions/session2024/rss/SB2980.xml', None), ('2024HB2549', 'HB', '2549', '2024', 'https://www.capitol.hawaii.gov/session/measure_indiv.aspx?billtype=HB&billnumber=2549&year=2024', 'https://www.capitol.hawaii.gov/sessions/session2024/rss/HB2549.xml', None), ('2024SB2836', 'SB', '2836', '2024', 'https://www.capitol.hawaii.gov/session/measure_indiv.aspx?billtype=SB&billnumber=2836&year=2024', 'https://www.capitol.hawaii.gov/sessions/session2024/rss/SB2836.xml', None), ('2024SB3231', 'SB', '3231', '2024', 'https://www.capitol.hawaii.gov/session/measure_indiv.aspx?billtype=SB&billnumber=3231&year=2024', 'https://www.capitol.hawaii.gov/sessions/session2024/rss/SB3231.xml', None)]\n"
     ]
    }
   ],
   "source": [
    "getBills(db=db)"
   ]
  },
  {
   "cell_type": "code",
   "execution_count": 7,
   "metadata": {},
   "outputs": [
    {
     "name": "stdout",
     "output_type": "stream",
     "text": [
      "[]\n"
     ]
    }
   ],
   "source": [
    "getHearings(db=db)"
   ]
  },
  {
   "cell_type": "code",
   "execution_count": 6,
   "metadata": {},
   "outputs": [
    {
     "name": "stdout",
     "output_type": "stream",
     "text": [
      "Success: 2024SB2979 updated from feed\n",
      "Success: 2024SB3381 updated from feed\n",
      "Success: 2024HB2696 updated from feed\n",
      "Success: 2024HB2693 updated from feed\n",
      "Success: 2024SB2980 updated from feed\n",
      "Success: 2024HB2549 updated from feed\n",
      "Success: 2024SB2836 updated from feed\n",
      "Success: 2024SB3231 updated from feed\n",
      "Success: all bills updated from feed\n"
     ]
    }
   ],
   "source": [
    "checkAllUpdates(db=db)"
   ]
  },
  {
   "cell_type": "code",
   "execution_count": 23,
   "metadata": {},
   "outputs": [
    {
     "name": "stdout",
     "output_type": "stream",
     "text": [
      "['GVO/LBT', '02-15-24', '3:10PM', 'Conference Room 225 & Videoconference']\n"
     ]
    }
   ],
   "source": [
    "# Senate e.g. for testing: \n",
    "# '2/12/24 SB2979: The committee(s) on GVO/LBT has scheduled a public hearing on 02-15-24 3:10PM; Conference Room 225 & Videoconference.'"
   ]
  },
  {
   "cell_type": "code",
   "execution_count": 19,
   "metadata": {},
   "outputs": [
    {
     "name": "stdout",
     "output_type": "stream",
     "text": [
      "['JHA', '02-13-24', '2:00PM', 'House conference room 325 VIA VIDEOCONFERENCE']\n"
     ]
    }
   ],
   "source": [
    "# House e.g. for testing:\n",
    "#  \"H 2/9/2024: Bill scheduled to be heard by JHA on Tuesday, 02-13-24 2:00PM in House conference room 325 VIA VIDEOCONFERENCE.\""
   ]
  }
 ],
 "metadata": {
  "kernelspec": {
   "display_name": "basicdataanalysis",
   "language": "python",
   "name": "python3"
  },
  "language_info": {
   "codemirror_mode": {
    "name": "ipython",
    "version": 3
   },
   "file_extension": ".py",
   "mimetype": "text/x-python",
   "name": "python",
   "nbconvert_exporter": "python",
   "pygments_lexer": "ipython3",
   "version": "3.12.1"
  }
 },
 "nbformat": 4,
 "nbformat_minor": 2
}
